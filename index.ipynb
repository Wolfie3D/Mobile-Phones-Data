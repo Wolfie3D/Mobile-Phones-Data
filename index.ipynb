{
 "cells": [
  {
   "cell_type": "code",
   "execution_count": 2,
   "metadata": {},
   "outputs": [],
   "source": [
    "import pandas as pd\n",
    "import numpy as np \n",
    "import seaborn as sns\n",
    "import matplotlib.pyplot as plt\n",
    "\n",
    "\n",
    "\n",
    "%matplotlib inline\n",
    "pd.set_option('display.max_columns', None)"
   ]
  },
  {
   "cell_type": "markdown",
   "metadata": {},
   "source": [
    "## Load The DataSet"
   ]
  },
  {
   "cell_type": "code",
   "execution_count": 3,
   "metadata": {},
   "outputs": [
    {
     "name": "stdout",
     "output_type": "stream",
     "text": [
      "<class 'pandas.core.frame.DataFrame'>\n",
      "RangeIndex: 1224 entries, 0 to 1223\n",
      "Data columns (total 13 columns):\n",
      " #   Column          Non-Null Count  Dtype  \n",
      "---  ------          --------------  -----  \n",
      " 0   Unnamed: 0      1224 non-null   int64  \n",
      " 1   brand_name      1224 non-null   object \n",
      " 2   model_name      1224 non-null   object \n",
      " 3   os              1027 non-null   object \n",
      " 4   popularity      1224 non-null   int64  \n",
      " 5   best_price      1224 non-null   float64\n",
      " 6   lowest_price    964 non-null    float64\n",
      " 7   highest_price   964 non-null    float64\n",
      " 8   sellers_amount  1224 non-null   int64  \n",
      " 9   screen_size     1222 non-null   float64\n",
      " 10  memory_size     1112 non-null   float64\n",
      " 11  battery_size    1214 non-null   float64\n",
      " 12  release_date    1224 non-null   object \n",
      "dtypes: float64(6), int64(3), object(4)\n",
      "memory usage: 124.4+ KB\n"
     ]
    }
   ],
   "source": [
    "df = pd.read_csv('phones_data.csv')\n",
    "\n",
    "df.info()"
   ]
  },
  {
   "cell_type": "markdown",
   "metadata": {},
   "source": [
    "## EDA "
   ]
  },
  {
   "cell_type": "code",
   "execution_count": 5,
   "metadata": {},
   "outputs": [
    {
     "data": {
      "text/html": [
       "<div>\n",
       "<style scoped>\n",
       "    .dataframe tbody tr th:only-of-type {\n",
       "        vertical-align: middle;\n",
       "    }\n",
       "\n",
       "    .dataframe tbody tr th {\n",
       "        vertical-align: top;\n",
       "    }\n",
       "\n",
       "    .dataframe thead th {\n",
       "        text-align: right;\n",
       "    }\n",
       "</style>\n",
       "<table border=\"1\" class=\"dataframe\">\n",
       "  <thead>\n",
       "    <tr style=\"text-align: right;\">\n",
       "      <th></th>\n",
       "      <th>count</th>\n",
       "      <th>mean</th>\n",
       "      <th>std</th>\n",
       "      <th>min</th>\n",
       "      <th>25%</th>\n",
       "      <th>50%</th>\n",
       "      <th>75%</th>\n",
       "      <th>max</th>\n",
       "    </tr>\n",
       "  </thead>\n",
       "  <tbody>\n",
       "    <tr>\n",
       "      <th>Unnamed: 0</th>\n",
       "      <td>1224.0</td>\n",
       "      <td>611.500000</td>\n",
       "      <td>353.482673</td>\n",
       "      <td>0.0000</td>\n",
       "      <td>305.7500</td>\n",
       "      <td>611.5</td>\n",
       "      <td>917.25</td>\n",
       "      <td>1223.0</td>\n",
       "    </tr>\n",
       "    <tr>\n",
       "      <th>popularity</th>\n",
       "      <td>1224.0</td>\n",
       "      <td>612.500000</td>\n",
       "      <td>353.482673</td>\n",
       "      <td>1.0000</td>\n",
       "      <td>306.7500</td>\n",
       "      <td>612.5</td>\n",
       "      <td>918.25</td>\n",
       "      <td>1224.0</td>\n",
       "    </tr>\n",
       "    <tr>\n",
       "      <th>best_price</th>\n",
       "      <td>1224.0</td>\n",
       "      <td>7941.206699</td>\n",
       "      <td>8891.836260</td>\n",
       "      <td>214.0000</td>\n",
       "      <td>2599.7500</td>\n",
       "      <td>4728.0</td>\n",
       "      <td>9323.00</td>\n",
       "      <td>56082.0</td>\n",
       "    </tr>\n",
       "    <tr>\n",
       "      <th>lowest_price</th>\n",
       "      <td>964.0</td>\n",
       "      <td>7716.018672</td>\n",
       "      <td>8560.959059</td>\n",
       "      <td>198.0000</td>\n",
       "      <td>2399.0000</td>\n",
       "      <td>4574.0</td>\n",
       "      <td>9262.25</td>\n",
       "      <td>49999.0</td>\n",
       "    </tr>\n",
       "    <tr>\n",
       "      <th>highest_price</th>\n",
       "      <td>964.0</td>\n",
       "      <td>9883.410788</td>\n",
       "      <td>11514.936818</td>\n",
       "      <td>229.0000</td>\n",
       "      <td>2887.0000</td>\n",
       "      <td>5325.5</td>\n",
       "      <td>12673.75</td>\n",
       "      <td>69999.0</td>\n",
       "    </tr>\n",
       "    <tr>\n",
       "      <th>sellers_amount</th>\n",
       "      <td>1224.0</td>\n",
       "      <td>16.743464</td>\n",
       "      <td>20.597006</td>\n",
       "      <td>1.0000</td>\n",
       "      <td>2.0000</td>\n",
       "      <td>8.0</td>\n",
       "      <td>26.00</td>\n",
       "      <td>125.0</td>\n",
       "    </tr>\n",
       "    <tr>\n",
       "      <th>screen_size</th>\n",
       "      <td>1222.0</td>\n",
       "      <td>5.394378</td>\n",
       "      <td>1.476991</td>\n",
       "      <td>1.4000</td>\n",
       "      <td>5.1625</td>\n",
       "      <td>6.0</td>\n",
       "      <td>6.40</td>\n",
       "      <td>8.1</td>\n",
       "    </tr>\n",
       "    <tr>\n",
       "      <th>memory_size</th>\n",
       "      <td>1112.0</td>\n",
       "      <td>95.700059</td>\n",
       "      <td>111.922576</td>\n",
       "      <td>0.0032</td>\n",
       "      <td>32.0000</td>\n",
       "      <td>64.0</td>\n",
       "      <td>128.00</td>\n",
       "      <td>1000.0</td>\n",
       "    </tr>\n",
       "    <tr>\n",
       "      <th>battery_size</th>\n",
       "      <td>1214.0</td>\n",
       "      <td>3608.201812</td>\n",
       "      <td>1668.268774</td>\n",
       "      <td>460.0000</td>\n",
       "      <td>2900.0000</td>\n",
       "      <td>3687.0</td>\n",
       "      <td>4400.00</td>\n",
       "      <td>18800.0</td>\n",
       "    </tr>\n",
       "  </tbody>\n",
       "</table>\n",
       "</div>"
      ],
      "text/plain": [
       "                 count         mean           std       min        25%  \\\n",
       "Unnamed: 0      1224.0   611.500000    353.482673    0.0000   305.7500   \n",
       "popularity      1224.0   612.500000    353.482673    1.0000   306.7500   \n",
       "best_price      1224.0  7941.206699   8891.836260  214.0000  2599.7500   \n",
       "lowest_price     964.0  7716.018672   8560.959059  198.0000  2399.0000   \n",
       "highest_price    964.0  9883.410788  11514.936818  229.0000  2887.0000   \n",
       "sellers_amount  1224.0    16.743464     20.597006    1.0000     2.0000   \n",
       "screen_size     1222.0     5.394378      1.476991    1.4000     5.1625   \n",
       "memory_size     1112.0    95.700059    111.922576    0.0032    32.0000   \n",
       "battery_size    1214.0  3608.201812   1668.268774  460.0000  2900.0000   \n",
       "\n",
       "                   50%       75%      max  \n",
       "Unnamed: 0       611.5    917.25   1223.0  \n",
       "popularity       612.5    918.25   1224.0  \n",
       "best_price      4728.0   9323.00  56082.0  \n",
       "lowest_price    4574.0   9262.25  49999.0  \n",
       "highest_price   5325.5  12673.75  69999.0  \n",
       "sellers_amount     8.0     26.00    125.0  \n",
       "screen_size        6.0      6.40      8.1  \n",
       "memory_size       64.0    128.00   1000.0  \n",
       "battery_size    3687.0   4400.00  18800.0  "
      ]
     },
     "execution_count": 5,
     "metadata": {},
     "output_type": "execute_result"
    }
   ],
   "source": [
    "df.describe().T"
   ]
  },
  {
   "cell_type": "code",
   "execution_count": 6,
   "metadata": {},
   "outputs": [
    {
     "data": {
      "text/plain": [
       "Index(['Unnamed: 0', 'brand_name', 'model_name', 'os', 'popularity',\n",
       "       'best_price', 'lowest_price', 'highest_price', 'sellers_amount',\n",
       "       'screen_size', 'memory_size', 'battery_size', 'release_date'],\n",
       "      dtype='object')"
      ]
     },
     "execution_count": 6,
     "metadata": {},
     "output_type": "execute_result"
    }
   ],
   "source": [
    "df.columns"
   ]
  },
  {
   "cell_type": "code",
   "execution_count": 14,
   "metadata": {},
   "outputs": [
    {
     "data": {
      "text/plain": [
       "0        422\n",
       "1        323\n",
       "2        299\n",
       "3        287\n",
       "4       1047\n",
       "        ... \n",
       "1219    1101\n",
       "1220     530\n",
       "1221    1174\n",
       "1222     752\n",
       "1223     952\n",
       "Name: popularity, Length: 1224, dtype: int64"
      ]
     },
     "execution_count": 14,
     "metadata": {},
     "output_type": "execute_result"
    }
   ],
   "source": [
    "df['popularity']"
   ]
  },
  {
   "cell_type": "code",
   "execution_count": 40,
   "metadata": {},
   "outputs": [
    {
     "data": {
      "text/plain": [
       "<AxesSubplot:>"
      ]
     },
     "execution_count": 40,
     "metadata": {},
     "output_type": "execute_result"
    },
    {
     "data": {
      "image/png": "[encoded data removed]",
      "text/plain": [
       "<Figure size 432x288 with 1 Axes>"
      ]
     },
     "metadata": {
      "needs_background": "light"
     },
     "output_type": "display_data"
    }
   ],
   "source": [
    "df['brand_name'].value_counts().head(15).sort_values().plot(kind='barh')"
   ]
  },
  {
   "cell_type": "markdown",
   "metadata": {},
   "source": [
    "#### plot the Top brand_name based on popularity\n",
    "\n",
    "The popularity of the phone in range 1-1224. 1224 is the most popular and 1 is least popular."
   ]
  },
  {
   "cell_type": "code",
   "execution_count": 37,
   "metadata": {},
   "outputs": [
    {
     "data": {
      "text/html": [
       "<div>\n",
       "<style scoped>\n",
       "    .dataframe tbody tr th:only-of-type {\n",
       "        vertical-align: middle;\n",
       "    }\n",
       "\n",
       "    .dataframe tbody tr th {\n",
       "        vertical-align: top;\n",
       "    }\n",
       "\n",
       "    .dataframe thead th {\n",
       "        text-align: right;\n",
       "    }\n",
       "</style>\n",
       "<table border=\"1\" class=\"dataframe\">\n",
       "  <thead>\n",
       "    <tr style=\"text-align: right;\">\n",
       "      <th></th>\n",
       "      <th>brand_name</th>\n",
       "      <th>popularity</th>\n",
       "    </tr>\n",
       "  </thead>\n",
       "  <tbody>\n",
       "    <tr>\n",
       "      <th>47</th>\n",
       "      <td>Samsung</td>\n",
       "      <td>114818</td>\n",
       "    </tr>\n",
       "    <tr>\n",
       "      <th>58</th>\n",
       "      <td>Xiaomi</td>\n",
       "      <td>89457</td>\n",
       "    </tr>\n",
       "    <tr>\n",
       "      <th>4</th>\n",
       "      <td>Apple</td>\n",
       "      <td>88550</td>\n",
       "    </tr>\n",
       "    <tr>\n",
       "      <th>24</th>\n",
       "      <td>HUAWEI</td>\n",
       "      <td>33786</td>\n",
       "    </tr>\n",
       "    <tr>\n",
       "      <th>36</th>\n",
       "      <td>Motorola</td>\n",
       "      <td>33084</td>\n",
       "    </tr>\n",
       "    <tr>\n",
       "      <th>38</th>\n",
       "      <td>Nokia</td>\n",
       "      <td>28315</td>\n",
       "    </tr>\n",
       "    <tr>\n",
       "      <th>9</th>\n",
       "      <td>Blackview</td>\n",
       "      <td>26462</td>\n",
       "    </tr>\n",
       "    <tr>\n",
       "      <th>49</th>\n",
       "      <td>Sigma mobile</td>\n",
       "      <td>23527</td>\n",
       "    </tr>\n",
       "    <tr>\n",
       "      <th>62</th>\n",
       "      <td>realme</td>\n",
       "      <td>19658</td>\n",
       "    </tr>\n",
       "    <tr>\n",
       "      <th>16</th>\n",
       "      <td>DOOGEE</td>\n",
       "      <td>18487</td>\n",
       "    </tr>\n",
       "    <tr>\n",
       "      <th>40</th>\n",
       "      <td>OPPO</td>\n",
       "      <td>17426</td>\n",
       "    </tr>\n",
       "    <tr>\n",
       "      <th>29</th>\n",
       "      <td>LG</td>\n",
       "      <td>17279</td>\n",
       "    </tr>\n",
       "    <tr>\n",
       "      <th>59</th>\n",
       "      <td>ZTE</td>\n",
       "      <td>16793</td>\n",
       "    </tr>\n",
       "    <tr>\n",
       "      <th>41</th>\n",
       "      <td>OnePlus</td>\n",
       "      <td>15694</td>\n",
       "    </tr>\n",
       "    <tr>\n",
       "      <th>22</th>\n",
       "      <td>Google</td>\n",
       "      <td>15342</td>\n",
       "    </tr>\n",
       "  </tbody>\n",
       "</table>\n",
       "</div>"
      ],
      "text/plain": [
       "      brand_name  popularity\n",
       "47       Samsung      114818\n",
       "58        Xiaomi       89457\n",
       "4          Apple       88550\n",
       "24        HUAWEI       33786\n",
       "36      Motorola       33084\n",
       "38         Nokia       28315\n",
       "9      Blackview       26462\n",
       "49  Sigma mobile       23527\n",
       "62        realme       19658\n",
       "16        DOOGEE       18487\n",
       "40          OPPO       17426\n",
       "29            LG       17279\n",
       "59           ZTE       16793\n",
       "41       OnePlus       15694\n",
       "22        Google       15342"
      ]
     },
     "execution_count": 37,
     "metadata": {},
     "output_type": "execute_result"
    }
   ],
   "source": [
    "brand_popularity = df.groupby('brand_name')['popularity'].sum().reset_index()\n",
    "\n",
    "brand_popularity = brand_popularity.sort_values('popularity', ascending=False).head(15)\n",
    "\n",
    "brand_popularity"
   ]
  },
  {
   "cell_type": "code",
   "execution_count": 38,
   "metadata": {},
   "outputs": [
    {
     "data": {
      "image/png": "[encoded data removed]",
      "text/plain": [
       "<Figure size 720x432 with 1 Axes>"
      ]
     },
     "metadata": {
      "needs_background": "light"
     },
     "output_type": "display_data"
    }
   ],
   "source": [
    "plt.figure(figsize=(10, 6))\n",
    "\n",
    "sns.barplot(x='brand_name', y='popularity', data=brand_popularity)\n",
    "\n",
    "plt.xticks(rotation=70)\n",
    "plt.tight_layout()"
   ]
  },
  {
   "cell_type": "markdown",
   "metadata": {},
   "source": [
    "## Analysis on Samsung "
   ]
  },
  {
   "cell_type": "code",
   "execution_count": 42,
   "metadata": {},
   "outputs": [
    {
     "data": {
      "text/html": [
       "<div>\n",
       "<style scoped>\n",
       "    .dataframe tbody tr th:only-of-type {\n",
       "        vertical-align: middle;\n",
       "    }\n",
       "\n",
       "    .dataframe tbody tr th {\n",
       "        vertical-align: top;\n",
       "    }\n",
       "\n",
       "    .dataframe thead th {\n",
       "        text-align: right;\n",
       "    }\n",
       "</style>\n",
       "<table border=\"1\" class=\"dataframe\">\n",
       "  <thead>\n",
       "    <tr style=\"text-align: right;\">\n",
       "      <th></th>\n",
       "      <th>Unnamed: 0</th>\n",
       "      <th>brand_name</th>\n",
       "      <th>model_name</th>\n",
       "      <th>os</th>\n",
       "      <th>popularity</th>\n",
       "      <th>best_price</th>\n",
       "      <th>lowest_price</th>\n",
       "      <th>highest_price</th>\n",
       "      <th>sellers_amount</th>\n",
       "      <th>screen_size</th>\n",
       "      <th>memory_size</th>\n",
       "      <th>battery_size</th>\n",
       "      <th>release_date</th>\n",
       "    </tr>\n",
       "  </thead>\n",
       "  <tbody>\n",
       "    <tr>\n",
       "      <th>378</th>\n",
       "      <td>378</td>\n",
       "      <td>Samsung</td>\n",
       "      <td>G920F Galaxy S6 32GB (White Pearl)</td>\n",
       "      <td>Android</td>\n",
       "      <td>845</td>\n",
       "      <td>3529.0</td>\n",
       "      <td>3100.0</td>\n",
       "      <td>3959.0</td>\n",
       "      <td>2</td>\n",
       "      <td>5.1</td>\n",
       "      <td>32.0</td>\n",
       "      <td>2550.0</td>\n",
       "      <td>3-2015</td>\n",
       "    </tr>\n",
       "    <tr>\n",
       "      <th>379</th>\n",
       "      <td>379</td>\n",
       "      <td>Samsung</td>\n",
       "      <td>G925F Galaxy S6 Edge 32GB (White Pearl)</td>\n",
       "      <td>Android</td>\n",
       "      <td>325</td>\n",
       "      <td>4511.0</td>\n",
       "      <td>NaN</td>\n",
       "      <td>NaN</td>\n",
       "      <td>1</td>\n",
       "      <td>5.1</td>\n",
       "      <td>32.0</td>\n",
       "      <td>2600.0</td>\n",
       "      <td>3-2015</td>\n",
       "    </tr>\n",
       "    <tr>\n",
       "      <th>380</th>\n",
       "      <td>380</td>\n",
       "      <td>Samsung</td>\n",
       "      <td>G935FD Galaxy S7 Edge 32GB Gold (SM-G935FZDU)</td>\n",
       "      <td>Android</td>\n",
       "      <td>605</td>\n",
       "      <td>5930.0</td>\n",
       "      <td>NaN</td>\n",
       "      <td>NaN</td>\n",
       "      <td>1</td>\n",
       "      <td>5.5</td>\n",
       "      <td>32.0</td>\n",
       "      <td>3600.0</td>\n",
       "      <td>2-2016</td>\n",
       "    </tr>\n",
       "    <tr>\n",
       "      <th>381</th>\n",
       "      <td>381</td>\n",
       "      <td>Samsung</td>\n",
       "      <td>Galaxy A01 2/16GB Black (SM-A015FZKD)</td>\n",
       "      <td>Android</td>\n",
       "      <td>1163</td>\n",
       "      <td>2940.0</td>\n",
       "      <td>2673.0</td>\n",
       "      <td>3158.0</td>\n",
       "      <td>33</td>\n",
       "      <td>5.7</td>\n",
       "      <td>16.0</td>\n",
       "      <td>3000.0</td>\n",
       "      <td>1-2020</td>\n",
       "    </tr>\n",
       "    <tr>\n",
       "      <th>382</th>\n",
       "      <td>382</td>\n",
       "      <td>Samsung</td>\n",
       "      <td>Galaxy A01 Core 1/16GB Black (SM-A013FZKD)</td>\n",
       "      <td>Android</td>\n",
       "      <td>1073</td>\n",
       "      <td>2344.0</td>\n",
       "      <td>2098.0</td>\n",
       "      <td>2553.0</td>\n",
       "      <td>50</td>\n",
       "      <td>5.3</td>\n",
       "      <td>16.0</td>\n",
       "      <td>3000.0</td>\n",
       "      <td>8-2020</td>\n",
       "    </tr>\n",
       "    <tr>\n",
       "      <th>...</th>\n",
       "      <td>...</td>\n",
       "      <td>...</td>\n",
       "      <td>...</td>\n",
       "      <td>...</td>\n",
       "      <td>...</td>\n",
       "      <td>...</td>\n",
       "      <td>...</td>\n",
       "      <td>...</td>\n",
       "      <td>...</td>\n",
       "      <td>...</td>\n",
       "      <td>...</td>\n",
       "      <td>...</td>\n",
       "      <td>...</td>\n",
       "    </tr>\n",
       "    <tr>\n",
       "      <th>541</th>\n",
       "      <td>541</td>\n",
       "      <td>Samsung</td>\n",
       "      <td>Galaxy Z Flip 5G SM-F707 8/256GB Mystic Bronze</td>\n",
       "      <td>Android</td>\n",
       "      <td>696</td>\n",
       "      <td>22434.0</td>\n",
       "      <td>21930.0</td>\n",
       "      <td>24530.0</td>\n",
       "      <td>13</td>\n",
       "      <td>6.7</td>\n",
       "      <td>256.0</td>\n",
       "      <td>3300.0</td>\n",
       "      <td>10-2020</td>\n",
       "    </tr>\n",
       "    <tr>\n",
       "      <th>542</th>\n",
       "      <td>542</td>\n",
       "      <td>Samsung</td>\n",
       "      <td>Galaxy Z Flip SM-F700 8/256GB Mirror Purple (S...</td>\n",
       "      <td>Android</td>\n",
       "      <td>1029</td>\n",
       "      <td>35015.0</td>\n",
       "      <td>24588.0</td>\n",
       "      <td>41999.0</td>\n",
       "      <td>16</td>\n",
       "      <td>6.7</td>\n",
       "      <td>256.0</td>\n",
       "      <td>3300.0</td>\n",
       "      <td>2-2020</td>\n",
       "    </tr>\n",
       "    <tr>\n",
       "      <th>543</th>\n",
       "      <td>543</td>\n",
       "      <td>Samsung</td>\n",
       "      <td>Galaxy Z Fold2 12/256GB Mystic Black (SM-F916B...</td>\n",
       "      <td>Android</td>\n",
       "      <td>1099</td>\n",
       "      <td>51460.0</td>\n",
       "      <td>44809.0</td>\n",
       "      <td>59999.0</td>\n",
       "      <td>33</td>\n",
       "      <td>7.6</td>\n",
       "      <td>256.0</td>\n",
       "      <td>4500.0</td>\n",
       "      <td>8-2020</td>\n",
       "    </tr>\n",
       "    <tr>\n",
       "      <th>659</th>\n",
       "      <td>659</td>\n",
       "      <td>Samsung</td>\n",
       "      <td>N920C Galaxy Note 5 32GB (Gold Platinum)</td>\n",
       "      <td>Android</td>\n",
       "      <td>31</td>\n",
       "      <td>5494.0</td>\n",
       "      <td>NaN</td>\n",
       "      <td>NaN</td>\n",
       "      <td>1</td>\n",
       "      <td>5.7</td>\n",
       "      <td>32.0</td>\n",
       "      <td>3000.0</td>\n",
       "      <td>10-2015</td>\n",
       "    </tr>\n",
       "    <tr>\n",
       "      <th>954</th>\n",
       "      <td>954</td>\n",
       "      <td>Samsung</td>\n",
       "      <td>X Cover 4s G398F (SM-G398FZKD)</td>\n",
       "      <td>Android</td>\n",
       "      <td>944</td>\n",
       "      <td>7130.0</td>\n",
       "      <td>5630.0</td>\n",
       "      <td>7499.0</td>\n",
       "      <td>33</td>\n",
       "      <td>5.0</td>\n",
       "      <td>32.0</td>\n",
       "      <td>2800.0</td>\n",
       "      <td>8-2019</td>\n",
       "    </tr>\n",
       "  </tbody>\n",
       "</table>\n",
       "<p>168 rows × 13 columns</p>\n",
       "</div>"
      ],
      "text/plain": [
       "     Unnamed: 0 brand_name                                         model_name  \\\n",
       "378         378    Samsung                 G920F Galaxy S6 32GB (White Pearl)   \n",
       "379         379    Samsung            G925F Galaxy S6 Edge 32GB (White Pearl)   \n",
       "380         380    Samsung      G935FD Galaxy S7 Edge 32GB Gold (SM-G935FZDU)   \n",
       "381         381    Samsung              Galaxy A01 2/16GB Black (SM-A015FZKD)   \n",
       "382         382    Samsung         Galaxy A01 Core 1/16GB Black (SM-A013FZKD)   \n",
       "..          ...        ...                                                ...   \n",
       "541         541    Samsung     Galaxy Z Flip 5G SM-F707 8/256GB Mystic Bronze   \n",
       "542         542    Samsung  Galaxy Z Flip SM-F700 8/256GB Mirror Purple (S...   \n",
       "543         543    Samsung  Galaxy Z Fold2 12/256GB Mystic Black (SM-F916B...   \n",
       "659         659    Samsung           N920C Galaxy Note 5 32GB (Gold Platinum)   \n",
       "954         954    Samsung                     X Cover 4s G398F (SM-G398FZKD)   \n",
       "\n",
       "          os  popularity  best_price  lowest_price  highest_price  \\\n",
       "378  Android         845      3529.0        3100.0         3959.0   \n",
       "379  Android         325      4511.0           NaN            NaN   \n",
       "380  Android         605      5930.0           NaN            NaN   \n",
       "381  Android        1163      2940.0        2673.0         3158.0   \n",
       "382  Android        1073      2344.0        2098.0         2553.0   \n",
       "..       ...         ...         ...           ...            ...   \n",
       "541  Android         696     22434.0       21930.0        24530.0   \n",
       "542  Android        1029     35015.0       24588.0        41999.0   \n",
       "543  Android        1099     51460.0       44809.0        59999.0   \n",
       "659  Android          31      5494.0           NaN            NaN   \n",
       "954  Android         944      7130.0        5630.0         7499.0   \n",
       "\n",
       "     sellers_amount  screen_size  memory_size  battery_size release_date  \n",
       "378               2          5.1         32.0        2550.0       3-2015  \n",
       "379               1          5.1         32.0        2600.0       3-2015  \n",
       "380               1          5.5         32.0        3600.0       2-2016  \n",
       "381              33          5.7         16.0        3000.0       1-2020  \n",
       "382              50          5.3         16.0        3000.0       8-2020  \n",
       "..              ...          ...          ...           ...          ...  \n",
       "541              13          6.7        256.0        3300.0      10-2020  \n",
       "542              16          6.7        256.0        3300.0       2-2020  \n",
       "543              33          7.6        256.0        4500.0       8-2020  \n",
       "659               1          5.7         32.0        3000.0      10-2015  \n",
       "954              33          5.0         32.0        2800.0       8-2019  \n",
       "\n",
       "[168 rows x 13 columns]"
      ]
     },
     "execution_count": 42,
     "metadata": {},
     "output_type": "execute_result"
    }
   ],
   "source": [
    "samsung = df[df['brand_name'] == 'Samsung']\n",
    "samsung"
   ]
  },
  {
   "cell_type": "code",
   "execution_count": 55,
   "metadata": {},
   "outputs": [
    {
     "data": {
      "text/html": [
       "<div>\n",
       "<style scoped>\n",
       "    .dataframe tbody tr th:only-of-type {\n",
       "        vertical-align: middle;\n",
       "    }\n",
       "\n",
       "    .dataframe tbody tr th {\n",
       "        vertical-align: top;\n",
       "    }\n",
       "\n",
       "    .dataframe thead th {\n",
       "        text-align: right;\n",
       "    }\n",
       "</style>\n",
       "<table border=\"1\" class=\"dataframe\">\n",
       "  <thead>\n",
       "    <tr style=\"text-align: right;\">\n",
       "      <th></th>\n",
       "      <th>model_name</th>\n",
       "      <th>popularity</th>\n",
       "    </tr>\n",
       "  </thead>\n",
       "  <tbody>\n",
       "    <tr>\n",
       "      <th>96</th>\n",
       "      <td>Galaxy S10+ SM-G9750 DS 128GB Black</td>\n",
       "      <td>1632</td>\n",
       "    </tr>\n",
       "    <tr>\n",
       "      <th>61</th>\n",
       "      <td>Galaxy M51 6/128GB Black (SM-M515FZKD)</td>\n",
       "      <td>1220</td>\n",
       "    </tr>\n",
       "    <tr>\n",
       "      <th>59</th>\n",
       "      <td>Galaxy M31 6/128GB Black (SM-M315FZKU)</td>\n",
       "      <td>1214</td>\n",
       "    </tr>\n",
       "    <tr>\n",
       "      <th>110</th>\n",
       "      <td>Galaxy S20 SM-G980 8/128GB Grey (SM-G980FZAD)</td>\n",
       "      <td>1210</td>\n",
       "    </tr>\n",
       "    <tr>\n",
       "      <th>39</th>\n",
       "      <td>Galaxy A71 2020 6/128GB Black (SM-A715FZKU)</td>\n",
       "      <td>1209</td>\n",
       "    </tr>\n",
       "  </tbody>\n",
       "</table>\n",
       "</div>"
      ],
      "text/plain": [
       "                                        model_name  popularity\n",
       "96             Galaxy S10+ SM-G9750 DS 128GB Black        1632\n",
       "61          Galaxy M51 6/128GB Black (SM-M515FZKD)        1220\n",
       "59          Galaxy M31 6/128GB Black (SM-M315FZKU)        1214\n",
       "110  Galaxy S20 SM-G980 8/128GB Grey (SM-G980FZAD)        1210\n",
       "39     Galaxy A71 2020 6/128GB Black (SM-A715FZKU)        1209"
      ]
     },
     "execution_count": 55,
     "metadata": {},
     "output_type": "execute_result"
    }
   ],
   "source": [
    "popular_samsung  = samsung.groupby('model_name')['popularity'].sum().reset_index()\n",
    "\n",
    "popular_samsung = popular_samsung.sort_values(by='popularity', ascending=False).head()\n",
    "\n",
    "popular_samsung"
   ]
  },
  {
   "cell_type": "code",
   "execution_count": 59,
   "metadata": {},
   "outputs": [
    {
     "data": {
      "text/plain": [
       "<AxesSubplot:xlabel='popularity', ylabel='model_name'>"
      ]
     },
     "execution_count": 59,
     "metadata": {},
     "output_type": "execute_result"
    },
    {
     "data": {
      "image/png": "[encoded data removed]",
      "text/plain": [
       "<Figure size 720x432 with 1 Axes>"
      ]
     },
     "metadata": {
      "needs_background": "light"
     },
     "output_type": "display_data"
    }
   ],
   "source": [
    "plt.figure(figsize=(10, 6))\n",
    "\n",
    "sns.barplot(y='model_name', x='popularity', data=popular_samsung, orient='h')\n"
   ]
  },
  {
   "cell_type": "markdown",
   "metadata": {},
   "source": [
    "### Plot the Most popular Operating System"
   ]
  },
  {
   "cell_type": "code",
   "execution_count": 64,
   "metadata": {},
   "outputs": [],
   "source": [
    "os_valueCounts = df['os'].value_counts()"
   ]
  },
  {
   "cell_type": "code",
   "execution_count": 84,
   "metadata": {},
   "outputs": [
    {
     "data": {
      "image/png": "[encoded data removed]",
      "text/plain": [
       "<Figure size 720x432 with 1 Axes>"
      ]
     },
     "metadata": {},
     "output_type": "display_data"
    }
   ],
   "source": [
    "plt.figure(figsize=(10, 6))\n",
    "\n",
    "os_valueCounts = os_valueCounts.sort_values(ascending=False)\n",
    "\n",
    "\n",
    "plt.pie(os_valueCounts, labels=os_valueCounts.index, autopct='%1.1f%%',  startangle=90)\n",
    "\n",
    "plt.axis('equal')  \n",
    "plt.title('Top Operating Systems')\n",
    "\n",
    "plt.show()\n"
   ]
  },
  {
   "cell_type": "code",
   "execution_count": 85,
   "metadata": {},
   "outputs": [
    {
     "data": {
      "image/png": "[encoded data removed]",
      "text/plain": [
       "<Figure size 432x288 with 1 Axes>"
      ]
     },
     "metadata": {},
     "output_type": "display_data"
    }
   ],
   "source": [
    "os_valueCounts = os_valueCounts.sort_values(ascending=False)\n",
    "\n",
    "\n",
    "top_os = os_valueCounts.head(2)\n",
    "\n",
    "\n",
    "top_os.plot(kind='pie', autopct='%1.1f%%', explode=(0.1, 0), startangle=90)\n",
    "\n",
    "\n",
    "\n",
    "plt.axis('equal')  \n",
    "\n",
    "plt.show()"
   ]
  },
  {
   "cell_type": "code",
   "execution_count": 80,
   "metadata": {},
   "outputs": [
    {
     "data": {
      "image/png": "[encoded data removed]",
      "text/plain": [
       "<Figure size 720x432 with 1 Axes>"
      ]
     },
     "metadata": {
      "needs_background": "light"
     },
     "output_type": "display_data"
    }
   ],
   "source": [
    "plt.figure(figsize=(10, 6))\n",
    "\n",
    "sns.barplot(x='popularity', y='os', data=os_Popularity, orient='h')\n",
    "\n",
    "plt.xlabel('Popularity')\n",
    "plt.ylabel('Operating System')\n",
    "\n",
    "plt.show()"
   ]
  },
  {
   "cell_type": "code",
   "execution_count": null,
   "metadata": {},
   "outputs": [],
   "source": []
  }
 ],
 "metadata": {
  "kernelspec": {
   "display_name": "learn-env",
   "language": "python",
   "name": "python3"
  },
  "language_info": {
   "codemirror_mode": {
    "name": "ipython",
    "version": 3
   },
   "file_extension": ".py",
   "mimetype": "text/x-python",
   "name": "python",
   "nbconvert_exporter": "python",
   "pygments_lexer": "ipython3",
   "version": "3.8.5"
  },
  "orig_nbformat": 4
 },
 "nbformat": 4,
 "nbformat_minor": 2
}
